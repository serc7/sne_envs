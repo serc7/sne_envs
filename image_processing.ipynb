{
 "cells": [
  {
   "cell_type": "markdown",
   "metadata": {},
   "source": [
    "## Build the rgrid maps and reproject the FUV maps onto W4 headers (for the SFR tracer)"
   ]
  },
  {
   "cell_type": "code",
   "execution_count": 3,
   "metadata": {},
   "outputs": [],
   "source": [
    "import numpy as np\n",
    "import pandas as pd\n",
    "import math\n",
    "import os.path\n",
    "sys.path.append(os.path.join(os.getenv('HOME'),'workspace','galbase'))\n",
    "from gal_data import gal_data\n",
    "import astropy.io.fits as pyfits\n",
    "from astropy.wcs import WCS\n",
    "from astropy import units as u\n",
    "from astropy.utils.data import get_pkg_data_filename\n",
    "from astropy.utils.console import ProgressBar\n",
    "from matplotlib import pyplot as plt\n",
    "import matplotlib.cm as cm\n",
    "from operator import itemgetter\n",
    "from astropy.coordinates import SkyCoord\n",
    "import astropy.units as u\n",
    "from reproject import reproject_interp"
   ]
  },
  {
   "cell_type": "code",
   "execution_count": 4,
   "metadata": {},
   "outputs": [
    {
     "name": "stderr",
     "output_type": "stream",
     "text": [
      "/home/cronin.104/anaconda3/envs/astroconda/lib/python3.7/site-packages/IPython/core/interactiveshell.py:3044: DtypeWarning: Columns (10) have mixed types.Specify dtype option on import or set low_memory=False.\n",
      "  interactivity=interactivity, compiler=compiler, result=result)\n"
     ]
    }
   ],
   "source": [
    "galbase = pd.read_csv('samples/galbase_info.csv')\n",
    "samp = pd.read_csv('samples/sne_sample.csv')"
   ]
  },
  {
   "cell_type": "code",
   "execution_count": 5,
   "metadata": {},
   "outputs": [],
   "source": [
    "from __future__ import (\n",
    "    division, print_function, absolute_import, unicode_literals)\n",
    "\n",
    "\n",
    "def deproject(center_coord=None, incl=0*u.deg, pa=0*u.deg,\n",
    "              header=None, wcs=None, naxis=None, ra=None, dec=None,\n",
    "              return_offset=False):\n",
    "\n",
    "    \"\"\"\n",
    "    Calculate deprojected radii and projected angles in a disk.\n",
    "    This function deals with projected images of astronomical objects\n",
    "    with an intrinsic disk geometry. Given sky coordinates of the\n",
    "    disk center, disk inclination and position angle, this function\n",
    "    calculates deprojected radii and projected angles based on\n",
    "    (1) a FITS header (`header`), or\n",
    "    (2) a WCS object with specified axis sizes (`wcs` + `naxis`), or\n",
    "    (3) RA and DEC coodinates (`ra` + `dec`).\n",
    "    Both deprojected radii and projected angles are defined relative\n",
    "    to the center in the inclined disk frame. For (1) and (2), the\n",
    "    outputs are 2D images; for (3), the outputs are arrays with shapes\n",
    "    matching the broadcasted shape of `ra` and `dec`.\n",
    "    Parameters\n",
    "    ----------\n",
    "    center_coord : `~astropy.coordinates.SkyCoord` object or 2-tuple\n",
    "        Sky coordinates of the disk center\n",
    "    incl : `~astropy.units.Quantity` object or number, optional\n",
    "        Inclination angle of the disk (0 degree means face-on)\n",
    "        Default is 0 degree.\n",
    "    pa : `~astropy.units.Quantity` object or number, optional\n",
    "        Position angle of the disk (red/receding side, North->East)\n",
    "        Default is 0 degree.\n",
    "    header : `~astropy.io.fits.Header` object, optional\n",
    "        FITS header specifying the WCS and size of the output 2D maps\n",
    "    wcs : `~astropy.wcs.WCS` object, optional\n",
    "        WCS of the output 2D maps\n",
    "    naxis : array-like (with two elements), optional\n",
    "        Size of the output 2D maps\n",
    "    ra : array-like, optional\n",
    "        RA coordinate of the sky locations of interest\n",
    "    dec : array-like, optional\n",
    "        DEC coordinate of the sky locations of interest\n",
    "    return_offset : bool, optional\n",
    "        Whether to return the angular offset coordinates together with\n",
    "        deprojected radii and angles. Default is to not return.\n",
    "    Returns\n",
    "    -------\n",
    "    deprojected coordinates : list of arrays\n",
    "        If `return_offset` is set to True, the returned arrays include\n",
    "        deprojected radii, projected angles, as well as angular offset\n",
    "        coordinates along East-West and North-South direction;\n",
    "        otherwise only the former two arrays will be returned.\n",
    "    Notes\n",
    "    -----\n",
    "    This is the Python version of an IDL function `deproject` included\n",
    "    in the `cpropstoo` package. See URL below:\n",
    "    https://github.com/akleroy/cpropstoo/blob/master/cubes/deproject.pro\n",
    "    \"\"\"\n",
    "\n",
    "    if isinstance(center_coord, SkyCoord):\n",
    "        x0_deg = center_coord.ra.degree\n",
    "        y0_deg = center_coord.dec.degree\n",
    "    else:\n",
    "        x0_deg, y0_deg = center_coord\n",
    "        if hasattr(x0_deg, 'unit'):\n",
    "            x0_deg = x0_deg.to(u.deg).value\n",
    "            y0_deg = y0_deg.to(u.deg).value\n",
    "    if hasattr(incl, 'unit'):\n",
    "        incl_deg = incl.to(u.deg).value\n",
    "    else:\n",
    "        incl_deg = incl\n",
    "    if hasattr(pa, 'unit'):\n",
    "        pa_deg = pa.to(u.deg).value\n",
    "    else:\n",
    "        pa_deg = pa\n",
    "\n",
    "    if header is not None:\n",
    "        wcs_cel = WCS(header).celestial\n",
    "        naxis1 = header['NAXIS1']\n",
    "        naxis2 = header['NAXIS2']\n",
    "        # create ra and dec grids\n",
    "        ix = np.arange(naxis1)\n",
    "        iy = np.arange(naxis2).reshape(-1, 1)\n",
    "        ra_deg, dec_deg = wcs_cel.wcs_pix2world(ix, iy, 0)\n",
    "    elif (wcs is not None) and (naxis is not None):\n",
    "        wcs_cel = wcs.celestial\n",
    "        naxis1, naxis2 = naxis\n",
    "        # create ra and dec grids\n",
    "        ix = np.arange(naxis1)\n",
    "        iy = np.arange(naxis2).reshape(-1, 1)\n",
    "        ra_deg, dec_deg = wcs_cel.wcs_pix2world(ix, iy, 0)\n",
    "    else:\n",
    "        ra_deg, dec_deg = np.broadcast_arrays(ra, dec)\n",
    "        if hasattr(ra_deg, 'unit'):\n",
    "            ra_deg = ra_deg.to(u.deg).value\n",
    "            dec_deg = dec_deg.to(u.deg).value\n",
    "\n",
    "    # recast the ra and dec arrays in term of the center coordinates\n",
    "    # arrays are now in degrees from the center\n",
    "    dx_deg = (ra_deg - x0_deg) * np.cos(np.deg2rad(y0_deg))\n",
    "    dy_deg = dec_deg - y0_deg\n",
    "\n",
    "    # rotation angle (rotate x-axis up to the major axis)\n",
    "    rotangle = np.pi/2 - np.deg2rad(pa_deg)\n",
    "\n",
    "    # create deprojected coordinate grids\n",
    "    deprojdx_deg = (dx_deg * np.cos(rotangle) +\n",
    "                    dy_deg * np.sin(rotangle))\n",
    "    deprojdy_deg = (dy_deg * np.cos(rotangle) -\n",
    "                    dx_deg * np.sin(rotangle))\n",
    "    deprojdy_deg /= np.cos(np.deg2rad(incl_deg))\n",
    "\n",
    "    # make map of deprojected distance from the center\n",
    "    radius_deg = np.sqrt(deprojdx_deg**2 + deprojdy_deg**2)\n",
    "\n",
    "    # make map of angle w.r.t. position angle\n",
    "    projang_deg = np.rad2deg(np.arctan2(deprojdy_deg, deprojdx_deg))\n",
    "\n",
    "    if return_offset:\n",
    "        return radius_deg, projang_deg, dx_deg, dy_deg\n",
    "    else:\n",
    "        return radius_deg, projang_deg"
   ]
  },
  {
   "cell_type": "markdown",
   "metadata": {},
   "source": [
    "Function that will take the wcs of a FITS image and will build galactocentric radii maps (in degrees)."
   ]
  },
  {
   "cell_type": "code",
   "execution_count": 6,
   "metadata": {},
   "outputs": [],
   "source": [
    "def build_rgrid(wcs, ra_gal, dec_gal, incl_gal, pa_gal):\n",
    "    \"\"\" Input: WCS of the fits image for a galaxy\n",
    "        Output: a grid of galactocentric radii for each pixel in the galaxy image\n",
    "    \"\"\"\n",
    "    naxis = wcs._naxis # grab the axes\n",
    "    \n",
    "    # make an map 'x' for pixels along the RA axis and a map 'y' for pixels along the DEC axis\n",
    "    x, y = np.meshgrid(range(naxis[0]), range(naxis[1]))\n",
    "    \n",
    "    # convert each x and y map to RA and DEC maps in degrees\n",
    "    ra_deg, dec_deg = wcs.wcs_pix2world(x,y, 0)\n",
    "    \n",
    "    rgal_map, phigal_map = deproject(center_coord=(ra_gal, dec_gal), incl=incl_gal, pa=pa_gal, wcs=wcs, naxis=naxis)\n",
    "    \n",
    "    return(rgal_map)"
   ]
  },
  {
   "cell_type": "markdown",
   "metadata": {},
   "source": [
    "### Build the rgrid maps"
   ]
  },
  {
   "cell_type": "markdown",
   "metadata": {},
   "source": [
    "Output the rgrid maps. Manually change the filename if for w4 to 'rgrid/%s/%s_%s_gauss15_rgrid.fits'% (res,pgc,res)\n",
    "Probably want to use w1 for both gauss7p5 and gauss15 if possible.\n",
    "\n",
    "###### Do we need W4 rgrid maps once W4 is masked, interped, and convolved?"
   ]
  },
  {
   "cell_type": "code",
   "execution_count": 7,
   "metadata": {},
   "outputs": [],
   "source": [
    "def output_rgrid_maps(samp, res, w4):\n",
    "    \"\"\" Input: sample of SNe and resolution (string)\n",
    "        Output: Maps of galactocentric radii for galaxies as FITS files\n",
    "    \"\"\"\n",
    "    \n",
    "    bar = ProgressBar(len(samp), ipython_widget=True)\n",
    "    for index, row in samp.iterrows():\n",
    "        bar.update()\n",
    "        pgc = row['PGC']\n",
    "        \n",
    "        # skip if rgrid map is already built for this galaxy; pick up where we left off\n",
    "        \n",
    "        if w4 is not True:\n",
    "            if os.path.isfile('rgrid/%s/%s_%s_rgrid.fits'% (res,pgc,res)) is True:\n",
    "                continue\n",
    "        else:\n",
    "            if os.path.isfile('rgrid/%s/%s_%s_w4_rgrid.fits'% (res,pgc,res)) is True:\n",
    "                continue\n",
    "\n",
    "        # get important information about the galaxy    \n",
    "        gal_info = galbase[galbase['PGC'] == pgc]\n",
    "        ra_gal   = gal_info['RA'].values\n",
    "        dec_gal  = gal_info['DEC'].values\n",
    "        incl_gal = gal_info['INCL'].values\n",
    "        pa_gal   = gal_info['PA'].values\n",
    "        r25_deg  = gal_info['R25'].values\n",
    "\n",
    "        # open the convolved map for this galaxy\n",
    "        if w4 is not True:\n",
    "            try:\n",
    "                hdulist = pyfits.open('/data/kant/0/leroy.42/allsky/convolved/%s/%s_w1_%s.fits' % (res, pgc, res))\n",
    "            except:\n",
    "                continue\n",
    "        else:\n",
    "            try:\n",
    "                hdulist = pyfits.open('/data/kant/0/leroy.42/allsky/convolved/%s/%s_w4_%s.fits' % (res, pgc, res))\n",
    "            except:\n",
    "                continue\n",
    "            \n",
    "        wcs = WCS(hdulist[0].header)\n",
    "        hdulist.close()\n",
    "\n",
    "        # build rgrid for this galaxy\n",
    "        rgrid = build_rgrid(wcs, ra_gal, dec_gal, incl_gal, pa_gal)\n",
    "\n",
    "        # write to a FITS file\n",
    "        hdu = pyfits.PrimaryHDU(rgrid)\n",
    "        \n",
    "        if w4 is not True:\n",
    "            hdu.writeto('rgrid/%s/%s_%s_rgrid.fits'% (res,pgc,res), overwrite=True)\n",
    "        else:\n",
    "            hdu.writeto('rgrid/%s/%s_%s_w4_rgrid.fits'% (res,pgc,res), overwrite=True)\n",
    "    return"
   ]
  },
  {
   "cell_type": "code",
   "execution_count": 8,
   "metadata": {},
   "outputs": [
    {
     "data": {
      "application/vnd.jupyter.widget-view+json": {
       "model_id": "d2888b27339d41b78a013af2a190c222",
       "version_major": 2,
       "version_minor": 0
      },
      "text/plain": [
       "FloatProgress(value=0.0)"
      ]
     },
     "metadata": {},
     "output_type": "display_data"
    },
    {
     "data": {
      "application/vnd.jupyter.widget-view+json": {
       "model_id": "b4b72b55d24f469babcc9c2f8aef66c2",
       "version_major": 2,
       "version_minor": 0
      },
      "text/plain": [
       "FloatProgress(value=0.0)"
      ]
     },
     "metadata": {},
     "output_type": "display_data"
    },
    {
     "data": {
      "application/vnd.jupyter.widget-view+json": {
       "model_id": "3093a4e20d4041ab9810cf8757343708",
       "version_major": 2,
       "version_minor": 0
      },
      "text/plain": [
       "FloatProgress(value=0.0)"
      ]
     },
     "metadata": {},
     "output_type": "display_data"
    }
   ],
   "source": [
    "# output_rgrid_maps(samp, '1kpc',  False)\n",
    "# output_rgrid_maps(samp, '2kpc',  False)\n",
    "# output_rgrid_maps(samp, '500pc', False)\n",
    "\n",
    "output_rgrid_maps(samp, '1kpc', True)\n",
    "output_rgrid_maps(samp, '2kpc', True)\n",
    "output_rgrid_maps(samp, '500pc', True)"
   ]
  },
  {
   "cell_type": "markdown",
   "metadata": {},
   "source": [
    "### Reproject FUV onto W4 images for the SFR tracer"
   ]
  },
  {
   "cell_type": "markdown",
   "metadata": {},
   "source": [
    "Reproject the FUV and W4 images so that we can create the SFR tracer. Reproject to the one with the smallest pixels (so reproject FUV onto the W4 header). Output reprojected FUV image as a FITS file."
   ]
  },
  {
   "cell_type": "code",
   "execution_count": 9,
   "metadata": {},
   "outputs": [],
   "source": [
    "def reproject_fuv_on_w4(samp, res):\n",
    "    \"\"\"input: sample, resolutions\n",
    "       output: FUV images with reprojected headers\n",
    "       \n",
    "       This will allow for us to build the SFR tracer.\n",
    "    \"\"\"\n",
    "    \n",
    "    bar = ProgressBar(len(samp), ipython_widget=True)\n",
    "    for index, row in samp.iterrows():\n",
    "        pgc = row['PGC']\n",
    "        \n",
    "        try:\n",
    "            hdulist_fuv = pyfits.open('/data/kant/0/leroy.42/allsky/convolved/%s/%s_fuv_%s.fits' % (res,pgc,res))\n",
    "            hdulist_w4  = pyfits.open('/data/kant/0/leroy.42/allsky/convolved/%s/%s_w4_%s.fits'  % (res,pgc,res))\n",
    "            \n",
    "        except FileNotFoundError:\n",
    "            bar.update()\n",
    "            continue\n",
    "            \n",
    "        # return array with reprojected pixels, footprint with information about original image\n",
    "        array, footprint = reproject_interp(hdulist_fuv, hdulist_w4[0].header)\n",
    "        pyfits.writeto('rgrid/fuv_on_w4_%s/%s_fuv_on_w4_%s.fits' % (res,pgc,res), array, \n",
    "                       hdulist_w4[0].header, overwrite=True)\n",
    "\n",
    "        bar.update()\n",
    "    return"
   ]
  },
  {
   "cell_type": "code",
   "execution_count": 10,
   "metadata": {},
   "outputs": [
    {
     "data": {
      "application/vnd.jupyter.widget-view+json": {
       "model_id": "bccffd0f55124a3caf0dbe095fbfd449",
       "version_major": 2,
       "version_minor": 0
      },
      "text/plain": [
       "FloatProgress(value=0.0)"
      ]
     },
     "metadata": {},
     "output_type": "display_data"
    },
    {
     "name": "stderr",
     "output_type": "stream",
     "text": [
      "WARNING: FITSFixedWarning: RADECSYS= 'FK5 ' / Reference frame \n",
      "the RADECSYS keyword is deprecated, use RADESYSa. [astropy.wcs.wcs]\n",
      "WARNING: FITSFixedWarning: RADECSYS= 'FK5 ' / Reference frame \n",
      "the RADECSYS keyword is deprecated, use RADESYSa. [astropy.wcs.wcs]\n"
     ]
    },
    {
     "data": {
      "application/vnd.jupyter.widget-view+json": {
       "model_id": "c6283d2b04c3430c804133331eceb271",
       "version_major": 2,
       "version_minor": 0
      },
      "text/plain": [
       "FloatProgress(value=0.0)"
      ]
     },
     "metadata": {},
     "output_type": "display_data"
    },
    {
     "data": {
      "application/vnd.jupyter.widget-view+json": {
       "model_id": "85af914087dd4373b7945020a287d668",
       "version_major": 2,
       "version_minor": 0
      },
      "text/plain": [
       "FloatProgress(value=0.0)"
      ]
     },
     "metadata": {},
     "output_type": "display_data"
    }
   ],
   "source": [
    "reproject_fuv_on_w4(samp, '500pc')\n",
    "reproject_fuv_on_w4(samp, '1kpc')\n",
    "reproject_fuv_on_w4(samp, '2kpc')"
   ]
  },
  {
   "cell_type": "code",
   "execution_count": null,
   "metadata": {},
   "outputs": [],
   "source": []
  }
 ],
 "metadata": {
  "kernelspec": {
   "display_name": "Python 3",
   "language": "python",
   "name": "python3"
  },
  "language_info": {
   "codemirror_mode": {
    "name": "ipython",
    "version": 3
   },
   "file_extension": ".py",
   "mimetype": "text/x-python",
   "name": "python",
   "nbconvert_exporter": "python",
   "pygments_lexer": "ipython3",
   "version": "3.7.9"
  }
 },
 "nbformat": 4,
 "nbformat_minor": 2
}
