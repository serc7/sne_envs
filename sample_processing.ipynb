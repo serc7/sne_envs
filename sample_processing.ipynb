{
 "cells": [
  {
   "cell_type": "markdown",
   "metadata": {},
   "source": [
    "## Build the galaxy control tables, galaxy CDFs, and attach more information to the SNe sample"
   ]
  },
  {
   "cell_type": "code",
   "execution_count": 45,
   "metadata": {},
   "outputs": [],
   "source": [
    "import numpy as np\n",
    "import pandas as pd\n",
    "import math\n",
    "import os.path\n",
    "sys.path.append(os.path.join(os.getenv('HOME'),'workspace','galbase'))\n",
    "from gal_data import gal_data\n",
    "import astropy.io.fits as pyfits\n",
    "from astropy.wcs import WCS\n",
    "from astropy import units as u\n",
    "from astropy.utils.data import get_pkg_data_filename\n",
    "from astropy.utils.console import ProgressBar\n",
    "from matplotlib import pyplot as plt\n",
    "import matplotlib.cm as cm\n",
    "from operator import itemgetter\n",
    "from astropy.coordinates import SkyCoord\n",
    "import astropy.units as u\n",
    "from reproject import reproject_interp"
   ]
  },
  {
   "cell_type": "code",
   "execution_count": 61,
   "metadata": {},
   "outputs": [],
   "source": [
    "galbase = pd.read_csv('samples/galbase_info.csv')\n",
    "samp = pd.read_csv('samples/sne_sample.csv')\n",
    "\n",
    "# fix\n",
    "samp = samp.drop(columns=['Unnamed: 0'])\n",
    "samp.to_csv('samples/sne_sample.csv', index=False)"
   ]
  },
  {
   "cell_type": "code",
   "execution_count": 48,
   "metadata": {},
   "outputs": [],
   "source": [
    "from __future__ import (\n",
    "    division, print_function, absolute_import, unicode_literals)\n",
    "\n",
    "\n",
    "def deproject(center_coord=None, incl=0*u.deg, pa=0*u.deg,\n",
    "              header=None, wcs=None, naxis=None, ra=None, dec=None,\n",
    "              return_offset=False):\n",
    "\n",
    "    \"\"\"\n",
    "    Calculate deprojected radii and projected angles in a disk.\n",
    "    This function deals with projected images of astronomical objects\n",
    "    with an intrinsic disk geometry. Given sky coordinates of the\n",
    "    disk center, disk inclination and position angle, this function\n",
    "    calculates deprojected radii and projected angles based on\n",
    "    (1) a FITS header (`header`), or\n",
    "    (2) a WCS object with specified axis sizes (`wcs` + `naxis`), or\n",
    "    (3) RA and DEC coodinates (`ra` + `dec`).\n",
    "    Both deprojected radii and projected angles are defined relative\n",
    "    to the center in the inclined disk frame. For (1) and (2), the\n",
    "    outputs are 2D images; for (3), the outputs are arrays with shapes\n",
    "    matching the broadcasted shape of `ra` and `dec`.\n",
    "    Parameters\n",
    "    ----------\n",
    "    center_coord : `~astropy.coordinates.SkyCoord` object or 2-tuple\n",
    "        Sky coordinates of the disk center\n",
    "    incl : `~astropy.units.Quantity` object or number, optional\n",
    "        Inclination angle of the disk (0 degree means face-on)\n",
    "        Default is 0 degree.\n",
    "    pa : `~astropy.units.Quantity` object or number, optional\n",
    "        Position angle of the disk (red/receding side, North->East)\n",
    "        Default is 0 degree.\n",
    "    header : `~astropy.io.fits.Header` object, optional\n",
    "        FITS header specifying the WCS and size of the output 2D maps\n",
    "    wcs : `~astropy.wcs.WCS` object, optional\n",
    "        WCS of the output 2D maps\n",
    "    naxis : array-like (with two elements), optional\n",
    "        Size of the output 2D maps\n",
    "    ra : array-like, optional\n",
    "        RA coordinate of the sky locations of interest\n",
    "    dec : array-like, optional\n",
    "        DEC coordinate of the sky locations of interest\n",
    "    return_offset : bool, optional\n",
    "        Whether to return the angular offset coordinates together with\n",
    "        deprojected radii and angles. Default is to not return.\n",
    "    Returns\n",
    "    -------\n",
    "    deprojected coordinates : list of arrays\n",
    "        If `return_offset` is set to True, the returned arrays include\n",
    "        deprojected radii, projected angles, as well as angular offset\n",
    "        coordinates along East-West and North-South direction;\n",
    "        otherwise only the former two arrays will be returned.\n",
    "    Notes\n",
    "    -----\n",
    "    This is the Python version of an IDL function `deproject` included\n",
    "    in the `cpropstoo` package. See URL below:\n",
    "    https://github.com/akleroy/cpropstoo/blob/master/cubes/deproject.pro\n",
    "    \"\"\"\n",
    "\n",
    "    if isinstance(center_coord, SkyCoord):\n",
    "        x0_deg = center_coord.ra.degree\n",
    "        y0_deg = center_coord.dec.degree\n",
    "    else:\n",
    "        x0_deg, y0_deg = center_coord\n",
    "        if hasattr(x0_deg, 'unit'):\n",
    "            x0_deg = x0_deg.to(u.deg).value\n",
    "            y0_deg = y0_deg.to(u.deg).value\n",
    "    if hasattr(incl, 'unit'):\n",
    "        incl_deg = incl.to(u.deg).value\n",
    "    else:\n",
    "        incl_deg = incl\n",
    "    if hasattr(pa, 'unit'):\n",
    "        pa_deg = pa.to(u.deg).value\n",
    "    else:\n",
    "        pa_deg = pa\n",
    "\n",
    "    if header is not None:\n",
    "        wcs_cel = WCS(header).celestial\n",
    "        naxis1 = header['NAXIS1']\n",
    "        naxis2 = header['NAXIS2']\n",
    "        # create ra and dec grids\n",
    "        ix = np.arange(naxis1)\n",
    "        iy = np.arange(naxis2).reshape(-1, 1)\n",
    "        ra_deg, dec_deg = wcs_cel.wcs_pix2world(ix, iy, 0)\n",
    "    elif (wcs is not None) and (naxis is not None):\n",
    "        wcs_cel = wcs.celestial\n",
    "        naxis1, naxis2 = naxis\n",
    "        # create ra and dec grids\n",
    "        ix = np.arange(naxis1)\n",
    "        iy = np.arange(naxis2).reshape(-1, 1)\n",
    "        ra_deg, dec_deg = wcs_cel.wcs_pix2world(ix, iy, 0)\n",
    "    else:\n",
    "        ra_deg, dec_deg = np.broadcast_arrays(ra, dec)\n",
    "        if hasattr(ra_deg, 'unit'):\n",
    "            ra_deg = ra_deg.to(u.deg).value\n",
    "            dec_deg = dec_deg.to(u.deg).value\n",
    "\n",
    "    # recast the ra and dec arrays in term of the center coordinates\n",
    "    # arrays are now in degrees from the center\n",
    "    dx_deg = (ra_deg - x0_deg) * np.cos(np.deg2rad(y0_deg))\n",
    "    dy_deg = dec_deg - y0_deg\n",
    "\n",
    "    # rotation angle (rotate x-axis up to the major axis)\n",
    "    rotangle = np.pi/2 - np.deg2rad(pa_deg)\n",
    "\n",
    "    # create deprojected coordinate grids\n",
    "    deprojdx_deg = (dx_deg * np.cos(rotangle) +\n",
    "                    dy_deg * np.sin(rotangle))\n",
    "    deprojdy_deg = (dy_deg * np.cos(rotangle) -\n",
    "                    dx_deg * np.sin(rotangle))\n",
    "    deprojdy_deg /= np.cos(np.deg2rad(incl_deg))\n",
    "\n",
    "    # make map of deprojected distance from the center\n",
    "    radius_deg = np.sqrt(deprojdx_deg**2 + deprojdy_deg**2)\n",
    "\n",
    "    # make map of angle w.r.t. position angle\n",
    "    projang_deg = np.rad2deg(np.arctan2(deprojdy_deg, deprojdx_deg))\n",
    "\n",
    "    if return_offset:\n",
    "        return radius_deg, projang_deg, dx_deg, dy_deg\n",
    "    else:\n",
    "        return radius_deg, projang_deg"
   ]
  },
  {
   "cell_type": "markdown",
   "metadata": {},
   "source": [
    "### Build the galaxy control tables"
   ]
  },
  {
   "cell_type": "markdown",
   "metadata": {},
   "source": [
    "Function that will construct the actual table."
   ]
  },
  {
   "cell_type": "code",
   "execution_count": 46,
   "metadata": {},
   "outputs": [],
   "source": [
    "def control_table(pix_values, rms_values, pgcs, ra, dec, radii, ra_w4, dec_w4, radii_w4):\n",
    "    \n",
    "    var_pix = pd.DataFrame()\n",
    "    var_pix['W1'] = pix_values[0]\n",
    "    var_pix['W2'] = pix_values[1]\n",
    "    var_pix['W3'] = pix_values[2]\n",
    "    var_pix['NUV'] = pix_values[4]\n",
    "    var_pix['FUV'] = pix_values[5]\n",
    "    \n",
    "    var_rms = pd.DataFrame()\n",
    "    var_rms['RMS_W1'] = rms_values[0]\n",
    "    var_rms['RMS_W2'] = rms_values[1]\n",
    "    var_rms['RMS_W3'] = rms_values[2]\n",
    "    var_rms['RMS_NUV'] = rms_values[4]\n",
    "    var_rms['RMS_FUV'] = rms_values[5]\n",
    "    \n",
    "    # pixel information\n",
    "    pgcs_df = pd.DataFrame(pgcs, columns=['PGC'])\n",
    "    ras_df = pd.DataFrame(ra, columns=['RA']) # ra and dec will act as pixel identifier\n",
    "    decs_df = pd.DataFrame(dec, columns=['DEC'])\n",
    "    radii_df = pd.DataFrame(radii, columns=['RADIUS'])\n",
    "    \n",
    "    ras_w4_df   = pd.DataFrame(ra_w4, columns=['RA_W4'])\n",
    "    decs_w4_df  = pd.DataFrame(dec_w4, columns=['DEC_W4'])\n",
    "    radii_w4_df = pd.DataFrame(radii_w4, columns=['RADIUS_W4'])\n",
    "    w4_df       = pd.DataFrame(pix_values[3], columns=['W4'])\n",
    "    rms_w4_df   = pd.DataFrame(rms_values[3], columns=['RMS_W4'])\n",
    "    \n",
    "    fuv_on_w4_df = pd.DataFrame(pix_values[6], columns=['FUV_ON_W4'])\n",
    "    rms_fuv_on_w4_df = pd.DataFrame(rms_values[6], columns=['RMS_FUV_ON_W4'])\n",
    "    \n",
    "    total = pd.concat([ras_df, decs_df, ras_w4_df, decs_w4_df, pgcs_df, radii_df, radii_w4_df, \n",
    "                       var_pix, w4_df, fuv_on_w4_df, var_rms, rms_w4_df,rms_fuv_on_w4_df], axis=1)\n",
    "    total = total[['RA','DEC','RA_W4','DEC_W4','PGC','RADIUS','RADIUS_W4','W1','W2', 'W3', 'NUV','FUV',\n",
    "                   'W4','FUV_ON_W4','RMS_W1','RMS_W2','RMS_W3','RMS_NUV','RMS_FUV','RMS_W4','RMS_FUV_ON_W4']]\n",
    "    return(total)"
   ]
  },
  {
   "cell_type": "markdown",
   "metadata": {},
   "source": [
    "Function to sort flux by radius"
   ]
  },
  {
   "cell_type": "code",
   "execution_count": 47,
   "metadata": {},
   "outputs": [],
   "source": [
    "def sorting_flux_by_radius(gal_flux, gal_rad):\n",
    "    \"\"\" Input: galaxy flux, galaxy radius at pixel\n",
    "        Output: radius value, CDF value at pixel\n",
    "    \"\"\"\n",
    "    flux_rad_zipped = zip(gal_flux, gal_rad)\n",
    "    flux, rad = zip(*sorted(flux_rad_zipped, key=itemgetter(1)))\n",
    "    return(rad, np.cumsum(flux)/np.sum(flux))"
   ]
  },
  {
   "cell_type": "markdown",
   "metadata": {},
   "source": [
    "Function that will convert the galaxy's pixel coordinates to RAs and DECs in degrees"
   ]
  },
  {
   "cell_type": "code",
   "execution_count": 30,
   "metadata": {},
   "outputs": [],
   "source": [
    "def gal_pixel_coords(wcs):\n",
    "    naxis = wcs._naxis\n",
    "    x = np.arange(naxis[0])\n",
    "    y = np.arange(naxis[1])\n",
    "    coords_arr = np.column_stack((x, y))\n",
    "    ras_decs = wcs.wcs_pix2world(coords_arr, 0)\n",
    "    gal_ras = ras_decs[:,0]\n",
    "    gal_decs = ras_decs[:,1]\n",
    "    return(gal_ras, gal_decs)"
   ]
  },
  {
   "cell_type": "markdown",
   "metadata": {},
   "source": [
    "Function that will loop over each galaxy in our sample and grab all the pixel values and radii and will store them in the galaxy control tables"
   ]
  },
  {
   "cell_type": "code",
   "execution_count": 31,
   "metadata": {},
   "outputs": [],
   "source": [
    "def radius_map(hdulist, res, pgc, r25_deg, w4):\n",
    "    \n",
    "    # radius map for all but w4\n",
    "    w = WCS(hdulist[0].header)\n",
    "    mapp = hdulist[0].data.copy()\n",
    "    dimx, dimy = np.shape(mapp)\n",
    "    mapp = mapp.flatten()\n",
    "    \n",
    "    if w4 is not True:\n",
    "        hdulist1   = pyfits.open('rgrid/%s/%s_%s_rgrid.fits' % (res,pgc,res))\n",
    "    else:\n",
    "        hdulist1   = pyfits.open('rgrid/%s/%s_%s_w4_rgrid.fits' % (res,pgc,res))\n",
    "        \n",
    "    rad_map    = hdulist1[0].data.copy() # copy data out into variable\n",
    "    w          = WCS(hdulist1[0].header)\n",
    "    rad_map    = rad_map.flatten()\n",
    "    loc_inside = np.where(rad_map <= 2*r25_deg)[0]\n",
    "    radii      = rad_map[loc_inside].byteswap().newbyteorder() # radii array; big endian to little endian (fixes error)\n",
    "    hdulist1.close()\n",
    "\n",
    "     # RA, DEC MAP\n",
    "    xx, yy = np.meshgrid(range(dimx), range(dimy))\n",
    "    xx = xx.flatten()\n",
    "    yy = yy.flatten()\n",
    "\n",
    "    xx_inside = xx[loc_inside]\n",
    "    yy_inside = yy[loc_inside]\n",
    "    ra, dec   = w.wcs_pix2world(xx_inside, yy_inside, 0) # ra and dec arrays\n",
    "    return(ra, dec, radii, loc_inside)"
   ]
  },
  {
   "cell_type": "markdown",
   "metadata": {},
   "source": [
    "Build the galaxy control tables."
   ]
  },
  {
   "cell_type": "code",
   "execution_count": 32,
   "metadata": {},
   "outputs": [],
   "source": [
    "# collect all pixel values of galaxy\n",
    "def gal_tables(samp, res):\n",
    "    bar = ProgressBar(len(samp), ipython_widget=True)\n",
    "\n",
    "    gal_in_process = []\n",
    "    for index, row in samp.iterrows():\n",
    "        pgc     = row['PGC']\n",
    "        r25_deg = row['R25']\n",
    "        ra_gal  = row['RA_GAL']\n",
    "        dec_gal = row['DEC_GAL']\n",
    "        incl    = row['INCL']\n",
    "        pa      = row['PA']\n",
    "\n",
    "        # if this galaxy was already accounted for    \n",
    "        if pgc in gal_in_process:\n",
    "            bar.update()\n",
    "            continue\n",
    "        gal_in_process.append(pgc)\n",
    "\n",
    "        try:\n",
    "            hdulist = pyfits.open('/data/kant/0/leroy.42/allsky/convolved/%s/%s_w1_%s.fits' % (res, pgc, res))\n",
    "            ra, dec, radii, loc_inside = radius_map(hdulist, res, pgc, r25_deg, False)\n",
    "            hdulist.close()\n",
    "        except:\n",
    "            bar.update()\n",
    "            continue\n",
    "            \n",
    "        try:\n",
    "            hdulist_w4 = pyfits.open('/data/kant/0/leroy.42/allsky/convolved/%s/%s_w4_%s.fits' % (res, pgc, res))\n",
    "            ra_w4, dec_w4, radii_w4, loc_inside_w4 = radius_map(hdulist_w4, res, pgc, r25_deg, True)\n",
    "            hdulist_w4.close()\n",
    "        except:\n",
    "            ra_w4  = np.array([np.nan] * len(ra))\n",
    "            dec_w4 = np.array([np.nan] * len(ra))\n",
    "            radii_w4 = np.array([np.nan] * len(ra))\n",
    "            loc_inside_w4 = np.array([np.nan] * len(ra))\n",
    "        \n",
    "        \n",
    "        pgcs = [pgc] * len(ra) # pgc array; want length of ra so all values are filled\n",
    "        \n",
    "        # create a matrix that contains indiviudal arrays for each band\n",
    "        pix_values   = [[],[],[],[],[],[],[]]\n",
    "        rms_values   = [[],[],[],[],[],[],[]]\n",
    "\n",
    "        # now loop over all bands\n",
    "        bands = ['w1','w2','w3','w4','nuv','fuv', 'fuv_on_w4']\n",
    "        for bb in range(len(bands)):\n",
    "\n",
    "            # if there are file not found errors, then try another file. If another error, then write 'nan'\n",
    "            try:\n",
    "                if bands[bb] == 'fuv_on_w4':\n",
    "                    hdulist1 = pyfits.open('rgrid/fuv_on_w4_%s/%s_fuv_on_w4_%s.fits' % (res, pgc, res))\n",
    "                \n",
    "                else:\n",
    "                    hdulist1 = pyfits.open('/data/kant/0/leroy.42/allsky/convolved/%s/%s_%s_%s.fits' % (res, pgc, bands[bb], res))\n",
    "               \n",
    "                band_map = hdulist1[0].data\n",
    "                rms = np.array([hdulist1[0].header['RMS']] * len(ra)) # multiply by length of ra so this accounts for all pixels\n",
    "                band_map = band_map.flatten()\n",
    "                \n",
    "                # get pixel values\n",
    "                if bands[bb] == 'w4':\n",
    "                    values = band_map[loc_inside_w4]\n",
    "                elif bands[bb] == 'fuv_on_w4':\n",
    "                    values = band_map[loc_inside_w4]\n",
    "                else:\n",
    "                    values = band_map[loc_inside]\n",
    "                    \n",
    "                values = values.byteswap().newbyteorder() # big endian to little endian (fixes error)\n",
    "                hdulist1.close()\n",
    "            except:\n",
    "                values = np.array([np.nan] * len(ra))\n",
    "                rms    = np.array([np.nan] * len(ra))\n",
    "\n",
    "            pix_values[bb]   = values\n",
    "            rms_values[bb]   = rms\n",
    "\n",
    "        total = control_table(pix_values, rms_values, pgcs, ra, dec, radii, ra_w4, dec_w4, radii_w4)\n",
    "        total.to_csv('galaxy_control_tables/%s/%s_%s.csv' % (res, pgc, res), index=False)\n",
    "        bar.update()\n",
    "    return"
   ]
  },
  {
   "cell_type": "code",
   "execution_count": 33,
   "metadata": {},
   "outputs": [
    {
     "data": {
      "application/vnd.jupyter.widget-view+json": {
       "model_id": "cf3c3989f73447d782c826ec1d7b68f0",
       "version_major": 2,
       "version_minor": 0
      },
      "text/plain": [
       "FloatProgress(value=0.0)"
      ]
     },
     "metadata": {},
     "output_type": "display_data"
    },
    {
     "data": {
      "application/vnd.jupyter.widget-view+json": {
       "model_id": "ad1c76db15954e2782057f58b29dca29",
       "version_major": 2,
       "version_minor": 0
      },
      "text/plain": [
       "FloatProgress(value=0.0)"
      ]
     },
     "metadata": {},
     "output_type": "display_data"
    },
    {
     "data": {
      "application/vnd.jupyter.widget-view+json": {
       "model_id": "e36bfd19d54d44988d1d85f09a4fee41",
       "version_major": 2,
       "version_minor": 0
      },
      "text/plain": [
       "FloatProgress(value=0.0)"
      ]
     },
     "metadata": {},
     "output_type": "display_data"
    }
   ],
   "source": [
    "gal_tables(samp, '500pc')\n",
    "gal_tables(samp, '1kpc')\n",
    "gal_tables(samp, '2kpc')"
   ]
  },
  {
   "cell_type": "markdown",
   "metadata": {},
   "source": [
    "#### Now repeat for the SFR tracer"
   ]
  },
  {
   "cell_type": "markdown",
   "metadata": {},
   "source": [
    "Calculate the SFR and add a column to the galaxy control tables."
   ]
  },
  {
   "cell_type": "code",
   "execution_count": 34,
   "metadata": {},
   "outputs": [],
   "source": [
    "# W4; C = 10**-42.73\n",
    "def w4_SFR_tracer(pixel_flux_w4):\n",
    "    \"\"\" Input: flux measured at pixel (W4)\n",
    "        Output: surfance density of SFR \n",
    "        in M_sol yr-1 kpc-2\n",
    "    \"\"\"\n",
    "    SFR_w4 = (3.24e-03)*((10**(-42.73)) / (10**(-42.7)))*(pixel_flux_w4)\n",
    "    return(SFR_w4)\n",
    "\n",
    "# FUV; C = 10**-43.42\n",
    "def fuv_SFR_tracer(pixel_flux_fuv):\n",
    "    \"\"\" Input: flux measured at pixel (FUV)\n",
    "        Output: surfance density of SFR \n",
    "        in M_sol yr-1 kpc-2\n",
    "    \"\"\"\n",
    "    SFR_fuv = (1.04e-01)*((10**(-43.42)) / (10**(-43.35)))*(pixel_flux_fuv)\n",
    "    return(SFR_fuv)"
   ]
  },
  {
   "cell_type": "markdown",
   "metadata": {},
   "source": [
    "Add the SFR tracer info to the galaxy control tables."
   ]
  },
  {
   "cell_type": "code",
   "execution_count": 35,
   "metadata": {},
   "outputs": [],
   "source": [
    "def gal_tables_sfr(res):\n",
    "\n",
    "    bar = ProgressBar(len(os.listdir('galaxy_control_tables/%s/' % (res))), ipython_widget=True)\n",
    "\n",
    "    # loop over every filename in the directory\n",
    "    for filename in os.listdir('galaxy_control_tables/%s/' % (res)):\n",
    "\n",
    "        # open the files\n",
    "        control_table = pd.read_csv('galaxy_control_tables/%s/%s' % (res, filename))   \n",
    "        pgc = filename.split('_%s.csv' % (res))[0]\n",
    "\n",
    "        SFR_vals = []\n",
    "        for index, row in control_table.iterrows():\n",
    "\n",
    "            # grab each flux value\n",
    "            pixel_flux_w4  = row['W4']\n",
    "            pixel_flux_fuv = row['FUV_ON_W4']\n",
    "\n",
    "            # convert w4 and fuv to SFR tracer\n",
    "            SFR_w4  = w4_SFR_tracer(pixel_flux_w4)\n",
    "            SFR_fuv = fuv_SFR_tracer(pixel_flux_fuv)\n",
    "            SFR_tracer = SFR_w4 + SFR_fuv\n",
    "\n",
    "            SFR_vals += [SFR_tracer]\n",
    "\n",
    "        # add the columns\n",
    "        control_table['SFR'] = SFR_vals\n",
    "\n",
    "        # rearrange columns\n",
    "        control_table = control_table[['RA','DEC', 'RA_W4', 'DEC_W4','PGC','RADIUS','RADIUS_W4','W1','W2','W3','W4',\n",
    "                                       'NUV','FUV','FUV_ON_W4','SFR','RMS_W1','RMS_W2','RMS_W3','RMS_W4','RMS_NUV',\n",
    "                                       'RMS_FUV','RMS_FUV_ON_W4']]\n",
    "        # overwrite old control tables\n",
    "        control_table.to_csv('galaxy_control_tables/%s/%s_%s.csv' % (res, pgc, res), index=False)\n",
    "\n",
    "        bar.update()\n",
    "        \n",
    "    return"
   ]
  },
  {
   "cell_type": "code",
   "execution_count": 36,
   "metadata": {},
   "outputs": [
    {
     "data": {
      "application/vnd.jupyter.widget-view+json": {
       "model_id": "7ac10ddbd1b34dd293764ab8a791987c",
       "version_major": 2,
       "version_minor": 0
      },
      "text/plain": [
       "FloatProgress(value=0.0)"
      ]
     },
     "metadata": {},
     "output_type": "display_data"
    },
    {
     "data": {
      "application/vnd.jupyter.widget-view+json": {
       "model_id": "2c893681e6154b56b951370d234d2a66",
       "version_major": 2,
       "version_minor": 0
      },
      "text/plain": [
       "FloatProgress(value=0.0)"
      ]
     },
     "metadata": {},
     "output_type": "display_data"
    },
    {
     "data": {
      "application/vnd.jupyter.widget-view+json": {
       "model_id": "c9e8915621f049fca75be4c12254d9fa",
       "version_major": 2,
       "version_minor": 0
      },
      "text/plain": [
       "FloatProgress(value=0.0)"
      ]
     },
     "metadata": {},
     "output_type": "display_data"
    }
   ],
   "source": [
    "gal_tables_sfr('500pc')\n",
    "gal_tables_sfr('1kpc')\n",
    "gal_tables_sfr('2kpc')"
   ]
  },
  {
   "cell_type": "markdown",
   "metadata": {},
   "source": [
    "### Build the galaxy CDFs"
   ]
  },
  {
   "cell_type": "markdown",
   "metadata": {},
   "source": [
    "Function that will grab each galaxy's control table and will build the host galaxy CDF"
   ]
  },
  {
   "cell_type": "code",
   "execution_count": 37,
   "metadata": {},
   "outputs": [],
   "source": [
    "def build_galaxy_cdf(band, pgc, res):\n",
    "    \"\"\" Input: bands, pgc\n",
    "        Output: rad (radius), cdf (cdf value)\n",
    "        This function makes cuts based on\n",
    "        nan values. It then uses the function \n",
    "        sorting_flux_by_radius() to compute and \n",
    "        return the radius and galaxy CDF value at the location.\n",
    "    \"\"\"\n",
    "    \n",
    "    # grab the control table\n",
    "    gal_info = pd.read_csv('galaxy_control_tables/%s/%s_%s.csv' % (res, pgc, res))\n",
    "    gal_info_band = np.array(gal_info[band])\n",
    "\n",
    "    if band == 'W4':\n",
    "        gal_rad = gal_info['RADIUS_W4']\n",
    "    elif band == 'SFR':\n",
    "        gal_rad = gal_info['RADIUS_W4']\n",
    "    else:\n",
    "        gal_rad = gal_info['RADIUS']\n",
    "        \n",
    "        \n",
    "    # get rid of nan\n",
    "    gal_rad = gal_rad[np.isfinite(gal_info_band)]\n",
    "    gal_info_band = gal_info_band[np.isfinite(gal_info_band)]\n",
    "\n",
    "    # set negative values to 0\n",
    "    loc_negative = np.where(gal_info_band < 0)[0]\n",
    "    gal_info_band[loc_negative] = 0.\n",
    "    \n",
    "    # call function to build CDF\n",
    "    rad, cdf = sorting_flux_by_radius(gal_info_band, gal_rad)\n",
    "    \n",
    "    return(rad, cdf)"
   ]
  },
  {
   "cell_type": "markdown",
   "metadata": {},
   "source": [
    "Function that will output the galaxy CDF to a file"
   ]
  },
  {
   "cell_type": "code",
   "execution_count": 38,
   "metadata": {},
   "outputs": [],
   "source": [
    "def gal_cdf_to_file(rad, cdf, pgc, band, res):\n",
    "    \"\"\" Input: radius, cdf values, galaxy pgc, and bands\n",
    "        Output: individual files of the radii and cdf\n",
    "        values per galaxy per band\n",
    "    \"\"\"\n",
    "    \n",
    "    gal_cdf_dict = {\n",
    "        'RADIUS': rad,\n",
    "        'CDF'   : cdf\n",
    "    }\n",
    " \n",
    "    gal_cdf = pd.DataFrame(gal_cdf_dict)\n",
    "    gal_cdf.to_csv('galaxy_control_tables/gal_cdfs_%s/%s_%s_%s.csv' % (res, pgc, band, res), index=False)\n",
    "\n",
    "    return"
   ]
  },
  {
   "cell_type": "markdown",
   "metadata": {},
   "source": [
    "Function that puts everything together: loop through the sample, build the galaxy CDF, and output to a file"
   ]
  },
  {
   "cell_type": "code",
   "execution_count": 39,
   "metadata": {},
   "outputs": [],
   "source": [
    "def output_cdfs(samp, res, sfr):\n",
    "\n",
    "    if sfr is not True:\n",
    "        bands = ['W1', 'W2', 'W3', 'W4', 'NUV', 'FUV', 'SFR']\n",
    "    else:\n",
    "        bands = ['SFR']\n",
    "\n",
    "    bar = ProgressBar(len(samp), ipython_widget=True)\n",
    "    \n",
    "    for index, row in samp.iterrows():\n",
    "\n",
    "        # read in host galaxy control table\n",
    "        pgc = row['PGC']\n",
    "\n",
    "        # BUILD GALAXY CDF: normalize total flux summed over all pixels\n",
    "        for i in range(len(bands)):\n",
    "\n",
    "            try:\n",
    "                # call function to make cuts and build galaxy CDF\n",
    "                rad, cdf = build_galaxy_cdf(bands[i], pgc, res)\n",
    "\n",
    "                # make these lists or else pandas gets mad\n",
    "                rad = [rad for rad in rad]\n",
    "                cdf = [cdf for cdf in cdf]\n",
    "                \n",
    "            except:\n",
    "                continue\n",
    "\n",
    "            # call function to write CDF and radius values to a file\n",
    "            gal_cdf_to_file(rad, cdf, pgc, bands[i], res)\n",
    "                \n",
    "        bar.update()"
   ]
  },
  {
   "cell_type": "code",
   "execution_count": 41,
   "metadata": {},
   "outputs": [
    {
     "data": {
      "application/vnd.jupyter.widget-view+json": {
       "model_id": "8cd7578878404b44baa200c9c3264b7c",
       "version_major": 2,
       "version_minor": 0
      },
      "text/plain": [
       "FloatProgress(value=0.0)"
      ]
     },
     "metadata": {},
     "output_type": "display_data"
    },
    {
     "data": {
      "application/vnd.jupyter.widget-view+json": {
       "model_id": "fdc413cb400545fbb02dfd46f57e54b1",
       "version_major": 2,
       "version_minor": 0
      },
      "text/plain": [
       "FloatProgress(value=0.0)"
      ]
     },
     "metadata": {},
     "output_type": "display_data"
    },
    {
     "data": {
      "application/vnd.jupyter.widget-view+json": {
       "model_id": "1a7d67d7640940bb8a3c41c4084a5dd4",
       "version_major": 2,
       "version_minor": 0
      },
      "text/plain": [
       "FloatProgress(value=0.0)"
      ]
     },
     "metadata": {},
     "output_type": "display_data"
    }
   ],
   "source": [
    "# output_cdfs(samp, '500pc', False)\n",
    "# output_cdfs(samp, '1kpc', False)\n",
    "# output_cdfs(samp, '2kpc', False)\n",
    "\n",
    "output_cdfs(samp, '500pc', True)\n",
    "output_cdfs(samp, '1kpc', True)\n",
    "output_cdfs(samp, '2kpc', True)"
   ]
  },
  {
   "cell_type": "markdown",
   "metadata": {},
   "source": [
    "### Prep the sample to build the SNe CDFs\n",
    "- Get the distance to each SN from the galactic center\n",
    "- Measure flux values at each SN site (?????)"
   ]
  },
  {
   "cell_type": "code",
   "execution_count": 42,
   "metadata": {},
   "outputs": [],
   "source": [
    "def add_radii_column_conv(samp, res):\n",
    "\n",
    "    radii  = []\n",
    "    names  = []\n",
    "\n",
    "    bar = ProgressBar(len(samp), ipython_widget=True)\n",
    "    for index, row in samp.iterrows():\n",
    "        ra   = row['RA']\n",
    "        dec  = row['DEC']\n",
    "        ra_gal  = row['RA_GAL']\n",
    "        dec_gal = row['DEC_GAL']\n",
    "        pa = row['PA']\n",
    "        incl = row['INCL']\n",
    "        pgc  = row['PGC']\n",
    "        name = row['NAME']\n",
    "        \n",
    "        rgal_list, phigal_list = deproject(center_coord=(ra_gal, dec_gal), incl=incl, pa=pa, ra=ra, dec=dec)\n",
    "        radii += [rgal_list]\n",
    "        names += [name]\n",
    "        bar.update()\n",
    "    return(radii, names)"
   ]
  },
  {
   "cell_type": "markdown",
   "metadata": {},
   "source": [
    "Get the radii for each resolution. Add this radii as a column for each resolution's sample"
   ]
  },
  {
   "cell_type": "code",
   "execution_count": 58,
   "metadata": {
    "scrolled": true
   },
   "outputs": [
    {
     "data": {
      "application/vnd.jupyter.widget-view+json": {
       "model_id": "35e3b6f027a84496bcc807260ade8eee",
       "version_major": 2,
       "version_minor": 0
      },
      "text/plain": [
       "FloatProgress(value=0.0)"
      ]
     },
     "metadata": {},
     "output_type": "display_data"
    },
    {
     "data": {
      "application/vnd.jupyter.widget-view+json": {
       "model_id": "7a924e59b0b74ba480eab96dbb69bb93",
       "version_major": 2,
       "version_minor": 0
      },
      "text/plain": [
       "FloatProgress(value=0.0)"
      ]
     },
     "metadata": {},
     "output_type": "display_data"
    },
    {
     "data": {
      "application/vnd.jupyter.widget-view+json": {
       "model_id": "145a1d37d9da4a2381318748b7c8c22c",
       "version_major": 2,
       "version_minor": 0
      },
      "text/plain": [
       "FloatProgress(value=0.0)"
      ]
     },
     "metadata": {},
     "output_type": "display_data"
    }
   ],
   "source": [
    "samp_1kpc = pd.read_csv('samples/sne_sample.csv')\n",
    "radii, names = add_radii_column_conv(samp, '1kpc')\n",
    "samp_1kpc['SN_RAD'] = radii\n",
    "samp_1kpc = samp_1kpc.drop(columns=['Unnamed: 0'])\n",
    "samp_1kpc.to_csv('sample_processing/1kpc.csv', index=False)\n",
    "\n",
    "samp_2kpc = pd.read_csv('samples/sne_sample.csv')\n",
    "radii, names = add_radii_column_conv(samp, '2kpc')\n",
    "samp_2kpc['SN_RAD'] = radii\n",
    "samp_2kpc = samp_2kpc.drop(columns=['Unnamed: 0'])\n",
    "samp_2kpc.to_csv('sample_processing/2kpc.csv', index=False)\n",
    "\n",
    "samp_500pc = pd.read_csv('samples/sne_sample.csv')\n",
    "radii, names = add_radii_column_conv(samp, '500pc')\n",
    "samp_500pc['SN_RAD'] = radii\n",
    "samp_500pc = samp_500pc.drop(columns=['Unnamed: 0'])\n",
    "samp_500pc.to_csv('sample_processing/500pc.csv', index=False)"
   ]
  },
  {
   "cell_type": "code",
   "execution_count": null,
   "metadata": {},
   "outputs": [],
   "source": []
  }
 ],
 "metadata": {
  "kernelspec": {
   "display_name": "Python 3",
   "language": "python",
   "name": "python3"
  },
  "language_info": {
   "codemirror_mode": {
    "name": "ipython",
    "version": 3
   },
   "file_extension": ".py",
   "mimetype": "text/x-python",
   "name": "python",
   "nbconvert_exporter": "python",
   "pygments_lexer": "ipython3",
   "version": "3.7.9"
  }
 },
 "nbformat": 4,
 "nbformat_minor": 2
}
